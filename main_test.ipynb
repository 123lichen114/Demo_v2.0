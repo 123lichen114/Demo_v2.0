{
 "cells": [
  {
   "cell_type": "code",
   "execution_count": null,
   "id": "03f5a637",
   "metadata": {},
   "outputs": [],
   "source": [
    "from backend.Data_loader import df_to_navigation_info\n",
    "import pandas as pd\n",
    "from backend.create_labels.label import basic_feature_label"
   ]
  },
  {
   "cell_type": "code",
   "execution_count": null,
   "id": "9f2c7d41",
   "metadata": {},
   "outputs": [],
   "source": [
    "folder_path = '/Users/lichen18/Documents/Project/Data_mining/data/data_for_analysis'\n",
    "\n",
    "# 历遍历所有csv文件\n",
    "import os\n",
    "for filename in os.listdir(folder_path):\n",
    "    if filename.endswith('.csv'):\n",
    "        file_path = os.path.join(folder_path, filename)\n",
    "        output_folder = 'backend/create_labels/label_cache'\n",
    "        output_file = os.path.join(output_folder,filename)\n",
    "        #查看output_file是否存在，如果存在则跳过\n",
    "        # if os.path.exists(output_file):\n",
    "        #     continue\n",
    "        print(\"Processing file:\", file_path)\n",
    "        df = pd.read_csv(file_path)\n",
    "        navigation_info = df_to_navigation_info(df)\n",
    "        bfl = basic_feature_label(navigation_info)\n",
    "        label_df  = bfl.show_basic_feature_label()\n",
    "        label_df.to_csv(output_file,index=False)\n",
    "        continue"
   ]
  },
  {
   "cell_type": "code",
   "execution_count": null,
   "id": "2aca10cf",
   "metadata": {},
   "outputs": [],
   "source": [
    "from backend.use_api.use_gaode.get_poitype import get_types_from_table\n",
    "def sub_classify_5(poi_info_list) -> str:\n",
    "        # (\"目的地偏好\",\"高频目的地类型\")\n",
    "        # 统计每个地点类型出现的次数 poi_info_dict的格式为 [{poi: \"xxx\", end_typeCode: \"xxx\", start_time: \"xxx\", end_time: \"xxx\"}]\n",
    "        activity_types = {}\n",
    "        for poi_item in poi_info_list:\n",
    "            if pd.notna(poi_item['end_typeCode']) :\n",
    "                    if poi_item['end_typeCode'] in activity_types :\n",
    "                        activity_types[poi_item['end_typeCode']] += 1\n",
    "                    else:\n",
    "                        activity_types[poi_item['end_typeCode']] = 1\n",
    "        if activity_types == {}:\n",
    "            return \"无出行记录\"\n",
    "        # 把activity_types这个字典按value大小排序，输出[(key, value), (key, value), ...]\n",
    "        # high_frequency_activity_types = sorted(activity_types.items(), key=lambda x: x[1], reverse=True)\n",
    "        \n",
    "        # #返回最高频地点类型\n",
    "        # high_frequency_activity_types = sorted(activity_types.items(), key=lambda x: x[1], reverse=True)\n",
    "        # high_frequency_poi_type = get_types_from_table(high_frequency_activity_types[0][0])\n",
    "        #返回最高频地点类型\n",
    "        # return high_frequency_poi_type\n",
    "        print(\"activity_types:\", activity_types)\n",
    "\n",
    "        high_frequency_activity_types = sorted(activity_types.items(), key=lambda x: x[1], reverse=True)\n",
    "        print(\"high_frequency_activity_types:\", high_frequency_activity_types)\n",
    "        high_frequency_poi_type = get_types_from_table(high_frequency_activity_types[0][0])\n",
    "        #返回最高频地点类型\n",
    "        return high_frequency_poi_type\n",
    "sub_classify_5(navigation_info)"
   ]
  },
  {
   "cell_type": "markdown",
   "id": "88fabbc5",
   "metadata": {},
   "source": []
  }
 ],
 "metadata": {
  "kernelspec": {
   "display_name": "ic",
   "language": "python",
   "name": "python3"
  },
  "language_info": {
   "codemirror_mode": {
    "name": "ipython",
    "version": 3
   },
   "file_extension": ".py",
   "mimetype": "text/x-python",
   "name": "python",
   "nbconvert_exporter": "python",
   "pygments_lexer": "ipython3",
   "version": "3.9.23"
  }
 },
 "nbformat": 4,
 "nbformat_minor": 5
}
