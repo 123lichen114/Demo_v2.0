{
 "cells": [
  {
   "cell_type": "code",
   "execution_count": 3,
   "id": "fd2cbd5b",
   "metadata": {},
   "outputs": [],
   "source": [
    "import pandas as pd\n",
    "import json\n",
    "import os\n",
    "from datetime import datetime\n",
    "# 导入核心功能模块\n",
    "from Handle_csv.handle import (\n",
    "    get_navigation_info,\n",
    "    get_target_info,\n",
    ")\n",
    "from Handle_csv.scenario.navigation.navigation_poi_time import plot_route_by_date\n",
    "from Handle_csv.scenario.navigation.origin_destination_heatmap import plot_origin_destination_heatmap\n",
    "from Handle_csv.config import Config\n",
    "from Handle_csv.scenario.navigation.knowledge_graph import NavigationKnowledgeGraph\n",
    "\n",
    "# 导入日志模块\n",
    "from utils.logger_setup import setup_logger"
   ]
  },
  {
   "cell_type": "code",
   "execution_count": 5,
   "id": "a88fe623",
   "metadata": {},
   "outputs": [],
   "source": [
    "\n",
    "# 设置日志\n",
    "logger = setup_logger()\n",
    "# 初始化配置（包含日志器）\n",
    "config = Config(logger)\n",
    "def load_single_file_from_path(file_path):\n",
    "    \"\"\"从本地路径加载CSV文件为DataFrame\"\"\"\n",
    "    try:\n",
    "        if not os.path.exists(file_path):\n",
    "            raise FileNotFoundError(f\"文件不存在: {file_path}\")\n",
    "        df = pd.read_csv(file_path)\n",
    "        print(f\"成功加载文件: {file_path}，数据量: {len(df)}行\")\n",
    "        return df\n",
    "    except Exception as e:\n",
    "        logger.error(f\"加载文件 {file_path} 失败\", exc_info=True)\n",
    "        raise e\n",
    "# 测试用CSV路径（替换为你的实际文件路径）\n",
    "test_csv_path = \"/Users/lichen18/Documents/Project/Data_mining/data/all_sequence_HLX14B178R0001811_merged.csv\"  "
   ]
  },
  {
   "cell_type": "code",
   "execution_count": 6,
   "id": "8924bdaf",
   "metadata": {},
   "outputs": [
    {
     "name": "stdout",
     "output_type": "stream",
     "text": [
      "成功加载文件: /Users/lichen18/Documents/Project/Data_mining/data/all_sequence_HLX14B178R0001811_merged.csv，数据量: 3765行\n",
      "\n",
      "===== 开始导航信息分析 =====\n",
      "导航信息生成完成\n"
     ]
    }
   ],
   "source": [
    "\"\"\"测试核心功能函数\"\"\"\n",
    "# 1. 加载数据\n",
    "df = load_single_file_from_path(test_csv_path)\n",
    "\n",
    "# 2. 基础导航信息分析\n",
    "print(\"\\n===== 开始导航信息分析 =====\")\n",
    "navi_info = get_navigation_info(df, config)\n",
    "print(\"导航信息生成完成\")\n"
   ]
  },
  {
   "cell_type": "code",
   "execution_count": null,
   "id": "3c1da63c",
   "metadata": {},
   "outputs": [],
   "source": [
    "NavigationKnowledgeGraph(navi_info).plot_knowledge_graph()"
   ]
  },
  {
   "cell_type": "code",
   "execution_count": null,
   "id": "a7b023a2",
   "metadata": {},
   "outputs": [],
   "source": [
    "poi_info_list = navi_info.Get_json_info()['poi_info_list']"
   ]
  },
  {
   "cell_type": "code",
   "execution_count": null,
   "id": "80163f57",
   "metadata": {},
   "outputs": [],
   "source": [
    "plot_origin_destination_heatmap(poi_info_list)"
   ]
  },
  {
   "cell_type": "markdown",
   "id": "afdfaa6c",
   "metadata": {},
   "source": []
  },
  {
   "cell_type": "code",
   "execution_count": null,
   "id": "41de5100",
   "metadata": {},
   "outputs": [],
   "source": [
    "\n",
    "# 3. 用户基础标签分析\n",
    "print(\"\\n===== 开始用户基础标签分析 =====\")\n",
    "user_feature_label = get_target_info(navi_info, 'user_basic_feature_label')\n",
    "print(\"用户基础标签表格:\")\n",
    "print(user_feature_label.show_basic_feature_label())  # 假设该方法返回可打印的表格数据\n"
   ]
  },
  {
   "cell_type": "code",
   "execution_count": null,
   "id": "8cc09bf6",
   "metadata": {},
   "outputs": [],
   "source": [
    "\n",
    "# 6. 导航地点信息\n",
    "print(\"\\n===== 开始导航地点信息分析 =====\")\n",
    "navigation_poi = get_target_info(navi_info, 'navigation_json')\n",
    "print(\"导航地点信息:\")\n",
    "print(json.dumps(navigation_poi, ensure_ascii=False, indent=2))\n"
   ]
  },
  {
   "cell_type": "code",
   "execution_count": null,
   "id": "d4e8e8a8",
   "metadata": {},
   "outputs": [],
   "source": [
    "\n",
    "# # 7. 用户整体分析画像\n",
    "# print(\"\\n===== 开始用户整体画像分析 =====\")\n",
    "# user_profile = get_target_info(navi_info, 'user_overall_profile')\n",
    "# print(\"用户整体画像:\")\n",
    "# print(json.dumps(user_profile, ensure_ascii=False, indent=2))\n"
   ]
  },
  {
   "cell_type": "code",
   "execution_count": null,
   "id": "cb312f06",
   "metadata": {},
   "outputs": [],
   "source": [
    "\n",
    "# 8. 路线时序图和路线图（如果需要保存图片）\n",
    "try:\n",
    "    print(\"\\n===== 开始路线时序图生成 =====\")\n",
    "    timeline_plot = get_target_info(navi_info, 'nagivation_draw')\n",
    "    # 保存时序图（如果返回的是图片二进制数据）\n",
    "    if timeline_plot:\n",
    "        with open(f\"timeline_{os.path.basename(test_csv_path)}.png\", \"wb\") as f:\n",
    "            f.write(timeline_plot.getvalue())  # 假设返回的是BytesIO对象\n",
    "        print(f\"路线时序图已保存为: timeline_{os.path.basename(test_csv_path)}.png\")\n",
    "except Exception as e:\n",
    "    logger.error(\"路线时序图生成失败\", exc_info=True)\n",
    "\n"
   ]
  },
  {
   "cell_type": "code",
   "execution_count": null,
   "id": "d24284c4",
   "metadata": {},
   "outputs": [],
   "source": [
    "print(\"\\n===== 开始路线图生成 =====\")\n",
    "route_map = get_target_info(navi_info, 'route_map')\n",
    "# 保存路线图\n",
    "if route_map:\n",
    "    with open(f\"route_map_{os.path.basename(test_csv_path)}.png\", \"wb\") as f:\n",
    "        f.write(route_map)  # 假设返回的是图片二进制数据\n",
    "    print(f\"路线图已保存为: route_map_{os.path.basename(test_csv_path)}.png\")"
   ]
  },
  {
   "cell_type": "code",
   "execution_count": null,
   "id": "3378b45a",
   "metadata": {},
   "outputs": [],
   "source": [
    "from Handle_csv.scenario.navigation.navigation_poi_time import plot_route_by_date\n",
    "plot_route_by_date(poi_info_list,save_dir=\"route_maps\")"
   ]
  },
  {
   "cell_type": "code",
   "execution_count": null,
   "id": "6c768620",
   "metadata": {},
   "outputs": [],
   "source": [
    "result = analyze_navigation_data(poi_info_list)"
   ]
  }
 ],
 "metadata": {
  "kernelspec": {
   "display_name": "ic",
   "language": "python",
   "name": "python3"
  },
  "language_info": {
   "codemirror_mode": {
    "name": "ipython",
    "version": 3
   },
   "file_extension": ".py",
   "mimetype": "text/x-python",
   "name": "python",
   "nbconvert_exporter": "python",
   "pygments_lexer": "ipython3",
   "version": "3.9.23"
  }
 },
 "nbformat": 4,
 "nbformat_minor": 5
}
