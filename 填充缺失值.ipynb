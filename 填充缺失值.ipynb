{
 "cells": [
  {
   "cell_type": "code",
   "execution_count": 25,
   "id": "d34eb467",
   "metadata": {},
   "outputs": [],
   "source": [
    "folder_path = '/Users/lichen18/Documents/Project/Data_mining/data/data_for_analysis'\n",
    "import os\n",
    "import pandas as pd\n",
    "import numpy as np\n",
    "from backend.use_api.use_gaode.geo import *"
   ]
  },
  {
   "cell_type": "code",
   "execution_count": 28,
   "id": "75f63c08",
   "metadata": {},
   "outputs": [],
   "source": [
    "file_path = '/Users/lichen18/Documents/Project/Data_mining/data/data_for_analysis/LW433B129P1621707.csv'\n",
    "def check_df_missing_values(file_path):\n",
    "    df = pd.read_csv(file_path)\n",
    "    for index,row in df.iterrows():\n",
    "            if pd.isna(row['end_name']):\n",
    "                info = get_location_regeo_info(row['end_location_str'])\n",
    "                print(\"row with missing end_name:\")\n",
    "                print(row)\n",
    "                #json格式 print输出info字典\n",
    "                print(\"Regeo info:\")\n",
    "                print(json.dumps(info, ensure_ascii=False, indent=4))   \n",
    "                aois_name = info['regeocode']['aois'][0]['name']\n",
    "                type = info['regeocode']['aois'][0]['type']\n",
    "                adcode = info['regeocode']['addressComponent']['adcode']\n",
    "                id = info['regeocode']['aois'][0]['id']\n",
    "                print(\"aois_name:\", aois_name)\n",
    "                total_formatted_address = info['regeocode']['formatted_address']\n",
    "                # total_formatted_address截除尾部的aois_name\n",
    "                formatted_address = total_formatted_address.replace(aois_name, '').strip()\n",
    "                print(\"formatted_address:\", formatted_address)\n",
    "                row['end_address'] = formatted_address\n",
    "                row['end_name'] = aois_name\n",
    "                row['end_typeCode'] = type\n",
    "                row['end_adcode'] = adcode\n",
    "                row['end_poiId'] = id\n",
    "\n",
    "                #把修改写入df\n",
    "                df.at[index,'end_name'] = row['end_name']\n",
    "                df.at[index,'end_address'] = row['end_address']\n",
    "                df.at[index,'end_typeCode'] = row['end_typeCode']\n",
    "                df.at[index,'end_adcode'] = row['end_adcode']\n",
    "                df.at[index,'end_poiId'] = row['end_poiId']\n",
    "\n",
    "                #把修改写入原文件\n",
    "                df.to_csv(file_path, index=False)\n",
    "                print(\"Missing values filled in file:\", file_path)\n",
    "check_df_missing_values(file_path)"
   ]
  },
  {
   "cell_type": "code",
   "execution_count": 30,
   "id": "edc86254",
   "metadata": {},
   "outputs": [
    {
     "data": {
      "text/plain": [
       "35"
      ]
     },
     "execution_count": 30,
     "metadata": {},
     "output_type": "execute_result"
    }
   ],
   "source": [
    "len('sk-f6b3d0960ade43c09e5d03d3676b6888')"
   ]
  }
 ],
 "metadata": {
  "kernelspec": {
   "display_name": "ic",
   "language": "python",
   "name": "python3"
  },
  "language_info": {
   "codemirror_mode": {
    "name": "ipython",
    "version": 3
   },
   "file_extension": ".py",
   "mimetype": "text/x-python",
   "name": "python",
   "nbconvert_exporter": "python",
   "pygments_lexer": "ipython3",
   "version": "3.9.23"
  }
 },
 "nbformat": 4,
 "nbformat_minor": 5
}
